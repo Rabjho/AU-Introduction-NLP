{
 "cells": [
  {
   "cell_type": "code",
   "execution_count": 24,
   "metadata": {},
   "outputs": [
    {
     "name": "stderr",
     "output_type": "stream",
     "text": [
      "c:\\Users\\Rabjho\\OneDrive - Aarhus universitet\\Introduction to NLP and Generative AI\\AU-Introduction-NLP\\dataloader.py:13: DtypeWarning: Columns (8) have mixed types. Specify dtype option on import or set low_memory=False.\n",
      "  df = pd.read_csv(file)\n",
      "c:\\Users\\Rabjho\\OneDrive - Aarhus universitet\\Introduction to NLP and Generative AI\\AU-Introduction-NLP\\dataloader.py:13: DtypeWarning: Columns (17,18,19,20,21,22,23,24,25,26,27,28,29,30,31,32,33,34,35,36,37,38,39,40,41,42,43,44,45,46,47,48,49,50,51,52,53,54,55,56,57,58,59,60,61,62,63,64,65,66,67,68,69,70,71,72,73,74,75,76,77,78) have mixed types. Specify dtype option on import or set low_memory=False.\n",
      "  df = pd.read_csv(file)\n"
     ]
    }
   ],
   "source": [
    "import numpy as np\n",
    "from pathlib import Path\n",
    "from dataloader import loadForumData\n",
    "\n",
    "dir = \"./data/hackerForums/\"\n",
    "\n",
    "df = loadForumData(dir)\n",
    "\n",
    "# No clue why these Null values are here, should be filtered in the dataloader already\n",
    "df = df[~df[\"PostContent\"].isnull()]"
   ]
  },
  {
   "cell_type": "code",
   "execution_count": 25,
   "metadata": {},
   "outputs": [
    {
     "name": "stderr",
     "output_type": "stream",
     "text": [
      "c:\\Users\\Rabjho\\OneDrive - Aarhus universitet\\Introduction to NLP and Generative AI\\AU-Introduction-NLP\\.venv\\lib\\site-packages\\transformers\\pipelines\\token_classification.py:168: UserWarning: `grouped_entities` is deprecated and will be removed in version v5.0.0, defaulted to `aggregation_strategy=\"simple\"` instead.\n",
      "  warnings.warn(\n"
     ]
    }
   ],
   "source": [
    "from transformers import AutoTokenizer, AutoModelForTokenClassification\n",
    "from transformers import pipeline\n",
    "\n",
    "tokenizer = AutoTokenizer.from_pretrained(\"Babelscape/wikineural-multilingual-ner\")\n",
    "model = AutoModelForTokenClassification.from_pretrained(\"Babelscape/wikineural-multilingual-ner\")\n",
    "\n",
    "ner = pipeline(\"ner\", model=model, tokenizer=tokenizer, grouped_entities=True)"
   ]
  },
  {
   "cell_type": "code",
   "execution_count": 32,
   "metadata": {},
   "outputs": [
    {
     "name": "stderr",
     "output_type": "stream",
     "text": [
      "C:\\Users\\Rabjho\\AppData\\Local\\Temp\\ipykernel_13372\\1278343691.py:3: SettingWithCopyWarning: \n",
      "A value is trying to be set on a copy of a slice from a DataFrame.\n",
      "Try using .loc[row_indexer,col_indexer] = value instead\n",
      "\n",
      "See the caveats in the documentation: https://pandas.pydata.org/pandas-docs/stable/user_guide/indexing.html#returning-a-view-versus-a-copy\n",
      "  temp[\"entities\"] = temp[\"PostContent\"].apply(lambda x: ner(x))\n"
     ]
    }
   ],
   "source": [
    "# Make a subset and check how fast it is\n",
    "temp = df.head(100)\n",
    "temp[\"entities\"] = temp[\"PostContent\"].apply(lambda x: ner(x))\n",
    "\n",
    "temp.to_csv(\"processedDataTest.csv\", index=False)\n",
    "\n",
    "# df[\"entities\"] = df[\"PostContent\"].apply(lambda x: ner(x))\n",
    "\n",
    "# df.to_csv(\"processedData.csv\", index=False)"
   ]
  }
 ],
 "metadata": {
  "kernelspec": {
   "display_name": "Python 3 (ipykernel)",
   "language": "python",
   "name": "python3"
  },
  "language_info": {
   "codemirror_mode": {
    "name": "ipython",
    "version": 3
   },
   "file_extension": ".py",
   "mimetype": "text/x-python",
   "name": "python",
   "nbconvert_exporter": "python",
   "pygments_lexer": "ipython3",
   "version": "3.10.11"
  }
 },
 "nbformat": 4,
 "nbformat_minor": 4
}
